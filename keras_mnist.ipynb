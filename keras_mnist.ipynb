{
 "cells": [
  {
   "cell_type": "code",
   "execution_count": 6,
   "metadata": {
    "collapsed": false
   },
   "outputs": [
    {
     "name": "stdout",
     "output_type": "stream",
     "text": [
      "(60000, 28, 28)\n"
     ]
    },
    {
     "name": "stderr",
     "output_type": "stream",
     "text": [
      "/Users/Jimmy/anaconda3/envs/tensorflow/lib/python3.5/site-packages/ipykernel/__main__.py:19: VisibleDeprecationWarning: converting an array with ndim > 0 to an index will result in an error in the future\n",
      "/Users/Jimmy/anaconda3/envs/tensorflow/lib/python3.5/site-packages/ipykernel/__main__.py:26: VisibleDeprecationWarning: converting an array with ndim > 0 to an index will result in an error in the future\n",
      "/Users/Jimmy/anaconda3/envs/tensorflow/lib/python3.5/site-packages/ipykernel/__main__.py:37: VisibleDeprecationWarning: converting an array with ndim > 0 to an index will result in an error in the future\n",
      "/Users/Jimmy/anaconda3/envs/tensorflow/lib/python3.5/site-packages/ipykernel/__main__.py:44: VisibleDeprecationWarning: converting an array with ndim > 0 to an index will result in an error in the future\n"
     ]
    }
   ],
   "source": [
    "import numpy as np\n",
    "\n",
    "\n",
    "int32 = np.dtype(np.int32)\n",
    "int32 = int32.newbyteorder('B')\n",
    "ubyte = np.dtype(np.ubyte) \n",
    "ubyte = ubyte.newbyteorder('B')\n",
    "\n",
    "#Reading in the mnist dataset\n",
    "def mnist():\n",
    "\n",
    "    X_train, Y_train, X_test, Y_test = [0,0,0,0]\n",
    "\n",
    "    #Read training data\n",
    "    with open(\"train-images-idx3-ubyte\", \"r\") as f:\n",
    "\n",
    "        magic_number = np.fromfile(f, dtype=int32, count=1)\n",
    "        n = np.fromfile(f, dtype=int32, count=1)\n",
    "        shape = np.fromfile(f, dtype=int32, count=2)\n",
    "        X_train = np.fromfile(f, dtype=ubyte, count=shape[0] * shape[1] * n).reshape(n, shape[0], shape[1])\n",
    "\n",
    "    #Read training labels\n",
    "    with open(\"train-labels-idx1-ubyte\", \"r\") as f:\n",
    "\n",
    "        magic_number = np.fromfile(f, dtype=int32, count=1)\n",
    "        n = np.fromfile(f, dtype=int32, count=1)\n",
    "        Y_train = np.fromfile(f, dtype=ubyte, count=n).reshape(n, 1)\n",
    "\n",
    "\n",
    "\n",
    "\n",
    "    #Read training data\n",
    "    with open(\"t10k-images-idx3-ubyte\", \"r\") as f:\n",
    "\n",
    "        magic_number = np.fromfile(f, dtype=int32, count=1)\n",
    "        n = np.fromfile(f, dtype=int32, count=1)\n",
    "        shape = np.fromfile(f, dtype=int32, count=2)\n",
    "        X_test = np.fromfile(f, dtype=ubyte, count=shape[0] * shape[1] * n).reshape(n, shape[0], shape[1])\n",
    "\n",
    "    #Read training labels\n",
    "    with open(\"t10k-labels-idx1-ubyte\", \"r\") as f:\n",
    "\n",
    "        magic_number = np.fromfile(f, dtype=int32, count=1)\n",
    "        n = np.fromfile(f, dtype=int32, count=1)\n",
    "        Y_test = np.fromfile(f, dtype=ubyte, count=n).reshape(n, 1)\n",
    "\n",
    "\n",
    "    return X_train, Y_train, X_test, Y_test\n",
    "\n",
    "\n",
    "\n",
    "#Read mnist data\n",
    "X_train, Y_train, X_test, Y_test = mnist()\n",
    "\n",
    "\n",
    "print(X_train.shape)"
   ]
  },
  {
   "cell_type": "code",
   "execution_count": 66,
   "metadata": {
    "collapsed": false
   },
   "outputs": [],
   "source": [
    "import tensorflow as tf\n",
    "from keras.models import Sequential\n",
    "from keras.regularizers import ActivityRegularizer, l2\n",
    "\n",
    "from keras.layers import Conv2D, Dense, MaxPooling2D, Flatten, Dropout"
   ]
  },
  {
   "cell_type": "code",
   "execution_count": 73,
   "metadata": {
    "collapsed": false
   },
   "outputs": [],
   "source": [
    "tf.python.control_flow_ops = tf\n",
    "\n",
    "model = Sequential()\n",
    "model.add(Conv2D(64,3,3,activation=\"relu\", init='uniform',border_mode=\"same\", W_regularizer=l2(0.01), batch_input_shape=(None,28,28,1)))\n",
    "\n",
    "model.add(Conv2D(32,3,3,activation=\"relu\",init='uniform', border_mode=\"same\", W_regularizer=l2(0.01) ))\n",
    "\n",
    "model.add(MaxPooling2D(pool_size=(2,2), border_mode=\"same\"))\n",
    "\n",
    "model.add(Conv2D(32,3,3,activation=\"relu\",init='uniform', border_mode=\"same\", W_regularizer=l2(0.01)))\n",
    "\n",
    "model.add(Conv2D(16,3,3,activation=\"relu\",init='uniform', border_mode=\"same\", W_regularizer=l2(0.01)))\n",
    "\n",
    "model.add(MaxPooling2D(pool_size=(2,2), border_mode=\"same\"))\n",
    "\n",
    "model.add(Dropout(0.5))\n",
    "\n",
    "model.add(Flatten())\n",
    "\n",
    "model.add(Dense(10,activation=\"relu\",init='uniform', W_regularizer=l2(0.01)))\n",
    "\n",
    "\n"
   ]
  },
  {
   "cell_type": "code",
   "execution_count": 74,
   "metadata": {
    "collapsed": true
   },
   "outputs": [],
   "source": [
    "model.compile(loss='sparse_categorical_crossentropy', optimizer='adam', metrics=['accuracy'])"
   ]
  },
  {
   "cell_type": "code",
   "execution_count": null,
   "metadata": {
    "collapsed": false
   },
   "outputs": [
    {
     "name": "stdout",
     "output_type": "stream",
     "text": [
      "Epoch 1/100\n",
      "60000/60000 [==============================] - 35s - loss: 4.8842 - acc: 0.1163    \n",
      "Epoch 2/100\n",
      "60000/60000 [==============================] - 35s - loss: 2.6000 - acc: 0.1351    \n",
      "Epoch 3/100\n",
      "60000/60000 [==============================] - 37s - loss: 2.4522 - acc: 0.1455    \n",
      "Epoch 4/100\n",
      "60000/60000 [==============================] - 36s - loss: 2.3981 - acc: 0.1713    \n",
      "Epoch 5/100\n",
      "60000/60000 [==============================] - 41s - loss: 2.3622 - acc: 0.1957    \n",
      "Epoch 6/100\n",
      "60000/60000 [==============================] - 42s - loss: 2.3118 - acc: 0.2310    \n",
      "Epoch 7/100\n",
      "60000/60000 [==============================] - 45s - loss: 2.2110 - acc: 0.2998    \n",
      "Epoch 8/100\n",
      "60000/60000 [==============================] - 43s - loss: 2.0577 - acc: 0.3989    \n",
      "Epoch 9/100\n",
      "60000/60000 [==============================] - 40s - loss: 1.8911 - acc: 0.4803    \n",
      "Epoch 10/100\n",
      "60000/60000 [==============================] - 38s - loss: 1.9834 - acc: 0.4579    \n",
      "Epoch 11/100\n",
      "60000/60000 [==============================] - 43s - loss: 1.9567 - acc: 0.4458    \n",
      "Epoch 12/100\n",
      "60000/60000 [==============================] - 38s - loss: 1.9697 - acc: 0.4387    \n",
      "Epoch 13/100\n",
      "60000/60000 [==============================] - 38s - loss: 1.9116 - acc: 0.4594    \n",
      "Epoch 14/100\n",
      "60000/60000 [==============================] - 41s - loss: 1.7089 - acc: 0.5388    \n",
      "Epoch 15/100\n",
      "60000/60000 [==============================] - 45s - loss: 1.6077 - acc: 0.5924    \n",
      "Epoch 16/100\n",
      "60000/60000 [==============================] - 44s - loss: 1.5067 - acc: 0.6284    \n",
      "Epoch 17/100\n",
      "60000/60000 [==============================] - 45s - loss: 1.4414 - acc: 0.6624    \n",
      "Epoch 18/100\n",
      "60000/60000 [==============================] - 39s - loss: 1.3997 - acc: 0.6803    \n",
      "Epoch 19/100\n",
      "60000/60000 [==============================] - 41s - loss: 1.3989 - acc: 0.6878    \n",
      "Epoch 20/100\n",
      "60000/60000 [==============================] - 40s - loss: 1.5045 - acc: 0.6563    \n",
      "Epoch 21/100\n",
      "60000/60000 [==============================] - 40s - loss: 1.4031 - acc: 0.6811    \n",
      "Epoch 22/100\n",
      "60000/60000 [==============================] - 43s - loss: 1.3478 - acc: 0.7001    \n",
      "Epoch 23/100\n",
      "60000/60000 [==============================] - 41s - loss: 1.2594 - acc: 0.7311    \n",
      "Epoch 24/100\n",
      "60000/60000 [==============================] - 40s - loss: 1.3097 - acc: 0.7334    \n",
      "Epoch 25/100\n",
      "60000/60000 [==============================] - 39s - loss: 1.7053 - acc: 0.6301    \n",
      "Epoch 26/100\n",
      "60000/60000 [==============================] - 45s - loss: 3.1966 - acc: 0.2381    \n",
      "Epoch 27/100\n",
      "60000/60000 [==============================] - 45s - loss: 2.2792 - acc: 0.3525    \n",
      "Epoch 28/100\n",
      "10000/60000 [====>.........................] - ETA: 52s - loss: 2.1721 - acc: 0.3768"
     ]
    }
   ],
   "source": [
    "model.fit(x= X_train.reshape(-1,28,28,1), y=Y_train, nb_epoch=100, batch_size=5000)"
   ]
  },
  {
   "cell_type": "code",
   "execution_count": null,
   "metadata": {
    "collapsed": true
   },
   "outputs": [],
   "source": []
  },
  {
   "cell_type": "code",
   "execution_count": null,
   "metadata": {
    "collapsed": true
   },
   "outputs": [],
   "source": []
  },
  {
   "cell_type": "code",
   "execution_count": null,
   "metadata": {
    "collapsed": true
   },
   "outputs": [],
   "source": []
  },
  {
   "cell_type": "code",
   "execution_count": null,
   "metadata": {
    "collapsed": true
   },
   "outputs": [],
   "source": []
  },
  {
   "cell_type": "code",
   "execution_count": null,
   "metadata": {
    "collapsed": true
   },
   "outputs": [],
   "source": []
  }
 ],
 "metadata": {
  "anaconda-cloud": {},
  "kernelspec": {
   "display_name": "Python [conda env:tensorflow]",
   "language": "python",
   "name": "conda-env-tensorflow-py"
  },
  "language_info": {
   "codemirror_mode": {
    "name": "ipython",
    "version": 3
   },
   "file_extension": ".py",
   "mimetype": "text/x-python",
   "name": "python",
   "nbconvert_exporter": "python",
   "pygments_lexer": "ipython3",
   "version": "3.5.2"
  }
 },
 "nbformat": 4,
 "nbformat_minor": 1
}
